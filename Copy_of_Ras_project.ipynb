{
  "nbformat": 4,
  "nbformat_minor": 0,
  "metadata": {
    "colab": {
      "name": "Copy of Ras_project.ipynb",
      "provenance": [],
      "authorship_tag": "ABX9TyOdkJD3PlN1KNTDDkqlgOOf",
      "include_colab_link": true
    },
    "kernelspec": {
      "name": "python3",
      "display_name": "Python 3"
    },
    "language_info": {
      "name": "python"
    }
  },
  "cells": [
    {
      "cell_type": "markdown",
      "metadata": {
        "id": "view-in-github",
        "colab_type": "text"
      },
      "source": [
        "<a href=\"https://colab.research.google.com/github/Phanuel55/docpha/blob/main/Copy_of_Ras_project.ipynb\" target=\"_parent\"><img src=\"https://colab.research.google.com/assets/colab-badge.svg\" alt=\"Open In Colab\"/></a>"
      ]
    },
    {
      "cell_type": "code",
      "execution_count": null,
      "metadata": {
        "id": "Ln3h6NT9iuri"
      },
      "outputs": [],
      "source": [
        ""
      ]
    },
    {
      "cell_type": "code",
      "execution_count": 2,
      "metadata": {
        "id": "6d8b0a44"
      },
      "outputs": [],
      "source": [
        "# Import librairies\n",
        "import pandas as pd\n",
        "import numpy as np"
      ]
    },
    {
      "cell_type": "code",
      "source": [
        ""
      ],
      "metadata": {
        "id": "UOL4RbZui5Nt"
      },
      "execution_count": null,
      "outputs": []
    },
    {
      "cell_type": "markdown",
      "source": [
        "ALL_DUTY_START_END SHEET"
      ],
      "metadata": {
        "id": "mw1hn9nGHQ6X"
      }
    },
    {
      "cell_type": "code",
      "source": [
        "# Read data\n",
        "all_duty_start_end = pd.read_excel ('/content/ELIZABETH_LINE_DATA.xlsx', sheet_name='ALL_DUTY_START_END')\n",
        "all_duty_start_end.columns = ['DUTY_ID','START_TIME_SECONDS','START_NODE','END_TIME_SECONDS','END_NODE']"
      ],
      "metadata": {
        "id": "DcV9c8EgOgyb"
      },
      "execution_count": 3,
      "outputs": []
    },
    {
      "cell_type": "code",
      "source": [
        "print(all_duty_start_end.columns)"
      ],
      "metadata": {
        "colab": {
          "base_uri": "https://localhost:8080/"
        },
        "id": "0EKtGAszlCBh",
        "outputId": "efb85311-3cb0-4fe3-ec1f-4055aa6fa5eb"
      },
      "execution_count": 4,
      "outputs": [
        {
          "output_type": "stream",
          "name": "stdout",
          "text": [
            "Index(['DUTY_ID', 'START_TIME_SECONDS', 'START_NODE', 'END_TIME_SECONDS',\n",
            "       'END_NODE'],\n",
            "      dtype='object')\n"
          ]
        }
      ]
    },
    {
      "cell_type": "code",
      "source": [
        "all_duty_start_end.DUTY_ID\n"
      ],
      "metadata": {
        "colab": {
          "base_uri": "https://localhost:8080/"
        },
        "id": "5S_jbgHJlTcZ",
        "outputId": "54e9da13-f679-4cad-a6c1-8a1dcca76f93"
      },
      "execution_count": 5,
      "outputs": [
        {
          "output_type": "execute_result",
          "data": {
            "text/plain": [
              "0       FERRY_1\n",
              "1       FERRY_2\n",
              "2       FERRY_3\n",
              "3       FERRY_4\n",
              "4       FERRY_5\n",
              "        ...    \n",
              "95    RSDuty_88\n",
              "96    RSDuty_89\n",
              "97     RSDuty_9\n",
              "98    RSDuty_90\n",
              "99    RSDuty_91\n",
              "Name: DUTY_ID, Length: 100, dtype: object"
            ]
          },
          "metadata": {},
          "execution_count": 5
        }
      ]
    },
    {
      "cell_type": "code",
      "source": [
        "all_duty_start_end.sort_values(by='START_TIME_SECONDS')"
      ],
      "metadata": {
        "id": "s0-J9H1Zl-Ko",
        "colab": {
          "base_uri": "https://localhost:8080/",
          "height": 655
        },
        "outputId": "8845f319-bbec-4050-ef6c-b634cc33c6ca"
      },
      "execution_count": null,
      "outputs": [
        {
          "output_type": "execute_result",
          "data": {
            "text/plain": [
              "      DUTY_ID  START_TIME_SECONDS START_NODE  END_TIME_SECONDS END_NODE\n",
              "0     FERRY_1                7200    MDNHDCS              7245  MDNHDRS\n",
              "1     FERRY_2                7620    MDNHEAD              7838  RDNGSTN\n",
              "2     FERRY_3                8040    MDNHEAD              8258  RDNGSTN\n",
              "3     FERRY_4                8460    MDNHEAD              8678  RDNGSTN\n",
              "4     FERRY_5                8880    MDNHEAD              9098  RDNGSTN\n",
              "..        ...                 ...        ...               ...      ...\n",
              "21  RSDuty_20               70620    RDNGSTN             88740  PLMSXCR\n",
              "84  RSDuty_78               72420    RDNGSTN             88890  OLDOXRS\n",
              "90  RSDuty_83               74160    WBRNPKS             87660  GIDEPKS\n",
              "40  RSDuty_38               74220    RDNGSTN             82560  OLDOXRS\n",
              "77  RSDuty_71               76020    RDNGSTN             80940  OLDOXRS\n",
              "\n",
              "[100 rows x 5 columns]"
            ],
            "text/html": [
              "\n",
              "  <div id=\"df-2af30386-96fc-47b0-93d1-767827e83026\">\n",
              "    <div class=\"colab-df-container\">\n",
              "      <div>\n",
              "<style scoped>\n",
              "    .dataframe tbody tr th:only-of-type {\n",
              "        vertical-align: middle;\n",
              "    }\n",
              "\n",
              "    .dataframe tbody tr th {\n",
              "        vertical-align: top;\n",
              "    }\n",
              "\n",
              "    .dataframe thead th {\n",
              "        text-align: right;\n",
              "    }\n",
              "</style>\n",
              "<table border=\"1\" class=\"dataframe\">\n",
              "  <thead>\n",
              "    <tr style=\"text-align: right;\">\n",
              "      <th></th>\n",
              "      <th>DUTY_ID</th>\n",
              "      <th>START_TIME_SECONDS</th>\n",
              "      <th>START_NODE</th>\n",
              "      <th>END_TIME_SECONDS</th>\n",
              "      <th>END_NODE</th>\n",
              "    </tr>\n",
              "  </thead>\n",
              "  <tbody>\n",
              "    <tr>\n",
              "      <th>0</th>\n",
              "      <td>FERRY_1</td>\n",
              "      <td>7200</td>\n",
              "      <td>MDNHDCS</td>\n",
              "      <td>7245</td>\n",
              "      <td>MDNHDRS</td>\n",
              "    </tr>\n",
              "    <tr>\n",
              "      <th>1</th>\n",
              "      <td>FERRY_2</td>\n",
              "      <td>7620</td>\n",
              "      <td>MDNHEAD</td>\n",
              "      <td>7838</td>\n",
              "      <td>RDNGSTN</td>\n",
              "    </tr>\n",
              "    <tr>\n",
              "      <th>2</th>\n",
              "      <td>FERRY_3</td>\n",
              "      <td>8040</td>\n",
              "      <td>MDNHEAD</td>\n",
              "      <td>8258</td>\n",
              "      <td>RDNGSTN</td>\n",
              "    </tr>\n",
              "    <tr>\n",
              "      <th>3</th>\n",
              "      <td>FERRY_4</td>\n",
              "      <td>8460</td>\n",
              "      <td>MDNHEAD</td>\n",
              "      <td>8678</td>\n",
              "      <td>RDNGSTN</td>\n",
              "    </tr>\n",
              "    <tr>\n",
              "      <th>4</th>\n",
              "      <td>FERRY_5</td>\n",
              "      <td>8880</td>\n",
              "      <td>MDNHEAD</td>\n",
              "      <td>9098</td>\n",
              "      <td>RDNGSTN</td>\n",
              "    </tr>\n",
              "    <tr>\n",
              "      <th>...</th>\n",
              "      <td>...</td>\n",
              "      <td>...</td>\n",
              "      <td>...</td>\n",
              "      <td>...</td>\n",
              "      <td>...</td>\n",
              "    </tr>\n",
              "    <tr>\n",
              "      <th>21</th>\n",
              "      <td>RSDuty_20</td>\n",
              "      <td>70620</td>\n",
              "      <td>RDNGSTN</td>\n",
              "      <td>88740</td>\n",
              "      <td>PLMSXCR</td>\n",
              "    </tr>\n",
              "    <tr>\n",
              "      <th>84</th>\n",
              "      <td>RSDuty_78</td>\n",
              "      <td>72420</td>\n",
              "      <td>RDNGSTN</td>\n",
              "      <td>88890</td>\n",
              "      <td>OLDOXRS</td>\n",
              "    </tr>\n",
              "    <tr>\n",
              "      <th>90</th>\n",
              "      <td>RSDuty_83</td>\n",
              "      <td>74160</td>\n",
              "      <td>WBRNPKS</td>\n",
              "      <td>87660</td>\n",
              "      <td>GIDEPKS</td>\n",
              "    </tr>\n",
              "    <tr>\n",
              "      <th>40</th>\n",
              "      <td>RSDuty_38</td>\n",
              "      <td>74220</td>\n",
              "      <td>RDNGSTN</td>\n",
              "      <td>82560</td>\n",
              "      <td>OLDOXRS</td>\n",
              "    </tr>\n",
              "    <tr>\n",
              "      <th>77</th>\n",
              "      <td>RSDuty_71</td>\n",
              "      <td>76020</td>\n",
              "      <td>RDNGSTN</td>\n",
              "      <td>80940</td>\n",
              "      <td>OLDOXRS</td>\n",
              "    </tr>\n",
              "  </tbody>\n",
              "</table>\n",
              "<p>100 rows × 5 columns</p>\n",
              "</div>\n",
              "      <button class=\"colab-df-convert\" onclick=\"convertToInteractive('df-2af30386-96fc-47b0-93d1-767827e83026')\"\n",
              "              title=\"Convert this dataframe to an interactive table.\"\n",
              "              style=\"display:none;\">\n",
              "        \n",
              "  <svg xmlns=\"http://www.w3.org/2000/svg\" height=\"24px\"viewBox=\"0 0 24 24\"\n",
              "       width=\"24px\">\n",
              "    <path d=\"M0 0h24v24H0V0z\" fill=\"none\"/>\n",
              "    <path d=\"M18.56 5.44l.94 2.06.94-2.06 2.06-.94-2.06-.94-.94-2.06-.94 2.06-2.06.94zm-11 1L8.5 8.5l.94-2.06 2.06-.94-2.06-.94L8.5 2.5l-.94 2.06-2.06.94zm10 10l.94 2.06.94-2.06 2.06-.94-2.06-.94-.94-2.06-.94 2.06-2.06.94z\"/><path d=\"M17.41 7.96l-1.37-1.37c-.4-.4-.92-.59-1.43-.59-.52 0-1.04.2-1.43.59L10.3 9.45l-7.72 7.72c-.78.78-.78 2.05 0 2.83L4 21.41c.39.39.9.59 1.41.59.51 0 1.02-.2 1.41-.59l7.78-7.78 2.81-2.81c.8-.78.8-2.07 0-2.86zM5.41 20L4 18.59l7.72-7.72 1.47 1.35L5.41 20z\"/>\n",
              "  </svg>\n",
              "      </button>\n",
              "      \n",
              "  <style>\n",
              "    .colab-df-container {\n",
              "      display:flex;\n",
              "      flex-wrap:wrap;\n",
              "      gap: 12px;\n",
              "    }\n",
              "\n",
              "    .colab-df-convert {\n",
              "      background-color: #E8F0FE;\n",
              "      border: none;\n",
              "      border-radius: 50%;\n",
              "      cursor: pointer;\n",
              "      display: none;\n",
              "      fill: #1967D2;\n",
              "      height: 32px;\n",
              "      padding: 0 0 0 0;\n",
              "      width: 32px;\n",
              "    }\n",
              "\n",
              "    .colab-df-convert:hover {\n",
              "      background-color: #E2EBFA;\n",
              "      box-shadow: 0px 1px 2px rgba(60, 64, 67, 0.3), 0px 1px 3px 1px rgba(60, 64, 67, 0.15);\n",
              "      fill: #174EA6;\n",
              "    }\n",
              "\n",
              "    [theme=dark] .colab-df-convert {\n",
              "      background-color: #3B4455;\n",
              "      fill: #D2E3FC;\n",
              "    }\n",
              "\n",
              "    [theme=dark] .colab-df-convert:hover {\n",
              "      background-color: #434B5C;\n",
              "      box-shadow: 0px 1px 3px 1px rgba(0, 0, 0, 0.15);\n",
              "      filter: drop-shadow(0px 1px 2px rgba(0, 0, 0, 0.3));\n",
              "      fill: #FFFFFF;\n",
              "    }\n",
              "  </style>\n",
              "\n",
              "      <script>\n",
              "        const buttonEl =\n",
              "          document.querySelector('#df-2af30386-96fc-47b0-93d1-767827e83026 button.colab-df-convert');\n",
              "        buttonEl.style.display =\n",
              "          google.colab.kernel.accessAllowed ? 'block' : 'none';\n",
              "\n",
              "        async function convertToInteractive(key) {\n",
              "          const element = document.querySelector('#df-2af30386-96fc-47b0-93d1-767827e83026');\n",
              "          const dataTable =\n",
              "            await google.colab.kernel.invokeFunction('convertToInteractive',\n",
              "                                                     [key], {});\n",
              "          if (!dataTable) return;\n",
              "\n",
              "          const docLinkHtml = 'Like what you see? Visit the ' +\n",
              "            '<a target=\"_blank\" href=https://colab.research.google.com/notebooks/data_table.ipynb>data table notebook</a>'\n",
              "            + ' to learn more about interactive tables.';\n",
              "          element.innerHTML = '';\n",
              "          dataTable['output_type'] = 'display_data';\n",
              "          await google.colab.output.renderOutput(dataTable, element);\n",
              "          const docLink = document.createElement('div');\n",
              "          docLink.innerHTML = docLinkHtml;\n",
              "          element.appendChild(docLink);\n",
              "        }\n",
              "      </script>\n",
              "    </div>\n",
              "  </div>\n",
              "  "
            ]
          },
          "metadata": {},
          "execution_count": 7
        }
      ]
    },
    {
      "cell_type": "code",
      "source": [
        ""
      ],
      "metadata": {
        "id": "msaOxaajlyZq"
      },
      "execution_count": null,
      "outputs": []
    },
    {
      "cell_type": "code",
      "source": [
        "all_duty_start_end.sort_values(by= 'END_TIME_SECONDS', ascending = False)"
      ],
      "metadata": {
        "colab": {
          "base_uri": "https://localhost:8080/",
          "height": 655
        },
        "outputId": "207bbb7b-d5f5-4755-fbb9-f575a85a3bc0",
        "id": "_w49_lOZvM2p"
      },
      "execution_count": null,
      "outputs": [
        {
          "output_type": "execute_result",
          "data": {
            "text/plain": [
              "      DUTY_ID  START_TIME_SECONDS START_NODE  END_TIME_SECONDS END_NODE\n",
              "81  RSDuty_75               21000    OLDOXRS             92160  SHENFLD\n",
              "64   RSDuty_6               57120    GIDEPKS             90960  GIDEPKS\n",
              "19  RSDuty_19               41220    OLDOXRS             90900  SHENFLD\n",
              "86   RSDuty_8               53820    OLDOXRS             90060  OLDOXRS\n",
              "92  RSDuty_85               16920    GIDEPKS             90060  GIDEPKS\n",
              "..        ...                 ...        ...               ...      ...\n",
              "4     FERRY_5                8880    MDNHEAD              9098  RDNGSTN\n",
              "3     FERRY_4                8460    MDNHEAD              8678  RDNGSTN\n",
              "2     FERRY_3                8040    MDNHEAD              8258  RDNGSTN\n",
              "1     FERRY_2                7620    MDNHEAD              7838  RDNGSTN\n",
              "0     FERRY_1                7200    MDNHDCS              7245  MDNHDRS\n",
              "\n",
              "[100 rows x 5 columns]"
            ],
            "text/html": [
              "\n",
              "  <div id=\"df-f69334f4-b3b9-4612-8adb-aeec9a690ad5\">\n",
              "    <div class=\"colab-df-container\">\n",
              "      <div>\n",
              "<style scoped>\n",
              "    .dataframe tbody tr th:only-of-type {\n",
              "        vertical-align: middle;\n",
              "    }\n",
              "\n",
              "    .dataframe tbody tr th {\n",
              "        vertical-align: top;\n",
              "    }\n",
              "\n",
              "    .dataframe thead th {\n",
              "        text-align: right;\n",
              "    }\n",
              "</style>\n",
              "<table border=\"1\" class=\"dataframe\">\n",
              "  <thead>\n",
              "    <tr style=\"text-align: right;\">\n",
              "      <th></th>\n",
              "      <th>DUTY_ID</th>\n",
              "      <th>START_TIME_SECONDS</th>\n",
              "      <th>START_NODE</th>\n",
              "      <th>END_TIME_SECONDS</th>\n",
              "      <th>END_NODE</th>\n",
              "    </tr>\n",
              "  </thead>\n",
              "  <tbody>\n",
              "    <tr>\n",
              "      <th>81</th>\n",
              "      <td>RSDuty_75</td>\n",
              "      <td>21000</td>\n",
              "      <td>OLDOXRS</td>\n",
              "      <td>92160</td>\n",
              "      <td>SHENFLD</td>\n",
              "    </tr>\n",
              "    <tr>\n",
              "      <th>64</th>\n",
              "      <td>RSDuty_6</td>\n",
              "      <td>57120</td>\n",
              "      <td>GIDEPKS</td>\n",
              "      <td>90960</td>\n",
              "      <td>GIDEPKS</td>\n",
              "    </tr>\n",
              "    <tr>\n",
              "      <th>19</th>\n",
              "      <td>RSDuty_19</td>\n",
              "      <td>41220</td>\n",
              "      <td>OLDOXRS</td>\n",
              "      <td>90900</td>\n",
              "      <td>SHENFLD</td>\n",
              "    </tr>\n",
              "    <tr>\n",
              "      <th>86</th>\n",
              "      <td>RSDuty_8</td>\n",
              "      <td>53820</td>\n",
              "      <td>OLDOXRS</td>\n",
              "      <td>90060</td>\n",
              "      <td>OLDOXRS</td>\n",
              "    </tr>\n",
              "    <tr>\n",
              "      <th>92</th>\n",
              "      <td>RSDuty_85</td>\n",
              "      <td>16920</td>\n",
              "      <td>GIDEPKS</td>\n",
              "      <td>90060</td>\n",
              "      <td>GIDEPKS</td>\n",
              "    </tr>\n",
              "    <tr>\n",
              "      <th>...</th>\n",
              "      <td>...</td>\n",
              "      <td>...</td>\n",
              "      <td>...</td>\n",
              "      <td>...</td>\n",
              "      <td>...</td>\n",
              "    </tr>\n",
              "    <tr>\n",
              "      <th>4</th>\n",
              "      <td>FERRY_5</td>\n",
              "      <td>8880</td>\n",
              "      <td>MDNHEAD</td>\n",
              "      <td>9098</td>\n",
              "      <td>RDNGSTN</td>\n",
              "    </tr>\n",
              "    <tr>\n",
              "      <th>3</th>\n",
              "      <td>FERRY_4</td>\n",
              "      <td>8460</td>\n",
              "      <td>MDNHEAD</td>\n",
              "      <td>8678</td>\n",
              "      <td>RDNGSTN</td>\n",
              "    </tr>\n",
              "    <tr>\n",
              "      <th>2</th>\n",
              "      <td>FERRY_3</td>\n",
              "      <td>8040</td>\n",
              "      <td>MDNHEAD</td>\n",
              "      <td>8258</td>\n",
              "      <td>RDNGSTN</td>\n",
              "    </tr>\n",
              "    <tr>\n",
              "      <th>1</th>\n",
              "      <td>FERRY_2</td>\n",
              "      <td>7620</td>\n",
              "      <td>MDNHEAD</td>\n",
              "      <td>7838</td>\n",
              "      <td>RDNGSTN</td>\n",
              "    </tr>\n",
              "    <tr>\n",
              "      <th>0</th>\n",
              "      <td>FERRY_1</td>\n",
              "      <td>7200</td>\n",
              "      <td>MDNHDCS</td>\n",
              "      <td>7245</td>\n",
              "      <td>MDNHDRS</td>\n",
              "    </tr>\n",
              "  </tbody>\n",
              "</table>\n",
              "<p>100 rows × 5 columns</p>\n",
              "</div>\n",
              "      <button class=\"colab-df-convert\" onclick=\"convertToInteractive('df-f69334f4-b3b9-4612-8adb-aeec9a690ad5')\"\n",
              "              title=\"Convert this dataframe to an interactive table.\"\n",
              "              style=\"display:none;\">\n",
              "        \n",
              "  <svg xmlns=\"http://www.w3.org/2000/svg\" height=\"24px\"viewBox=\"0 0 24 24\"\n",
              "       width=\"24px\">\n",
              "    <path d=\"M0 0h24v24H0V0z\" fill=\"none\"/>\n",
              "    <path d=\"M18.56 5.44l.94 2.06.94-2.06 2.06-.94-2.06-.94-.94-2.06-.94 2.06-2.06.94zm-11 1L8.5 8.5l.94-2.06 2.06-.94-2.06-.94L8.5 2.5l-.94 2.06-2.06.94zm10 10l.94 2.06.94-2.06 2.06-.94-2.06-.94-.94-2.06-.94 2.06-2.06.94z\"/><path d=\"M17.41 7.96l-1.37-1.37c-.4-.4-.92-.59-1.43-.59-.52 0-1.04.2-1.43.59L10.3 9.45l-7.72 7.72c-.78.78-.78 2.05 0 2.83L4 21.41c.39.39.9.59 1.41.59.51 0 1.02-.2 1.41-.59l7.78-7.78 2.81-2.81c.8-.78.8-2.07 0-2.86zM5.41 20L4 18.59l7.72-7.72 1.47 1.35L5.41 20z\"/>\n",
              "  </svg>\n",
              "      </button>\n",
              "      \n",
              "  <style>\n",
              "    .colab-df-container {\n",
              "      display:flex;\n",
              "      flex-wrap:wrap;\n",
              "      gap: 12px;\n",
              "    }\n",
              "\n",
              "    .colab-df-convert {\n",
              "      background-color: #E8F0FE;\n",
              "      border: none;\n",
              "      border-radius: 50%;\n",
              "      cursor: pointer;\n",
              "      display: none;\n",
              "      fill: #1967D2;\n",
              "      height: 32px;\n",
              "      padding: 0 0 0 0;\n",
              "      width: 32px;\n",
              "    }\n",
              "\n",
              "    .colab-df-convert:hover {\n",
              "      background-color: #E2EBFA;\n",
              "      box-shadow: 0px 1px 2px rgba(60, 64, 67, 0.3), 0px 1px 3px 1px rgba(60, 64, 67, 0.15);\n",
              "      fill: #174EA6;\n",
              "    }\n",
              "\n",
              "    [theme=dark] .colab-df-convert {\n",
              "      background-color: #3B4455;\n",
              "      fill: #D2E3FC;\n",
              "    }\n",
              "\n",
              "    [theme=dark] .colab-df-convert:hover {\n",
              "      background-color: #434B5C;\n",
              "      box-shadow: 0px 1px 3px 1px rgba(0, 0, 0, 0.15);\n",
              "      filter: drop-shadow(0px 1px 2px rgba(0, 0, 0, 0.3));\n",
              "      fill: #FFFFFF;\n",
              "    }\n",
              "  </style>\n",
              "\n",
              "      <script>\n",
              "        const buttonEl =\n",
              "          document.querySelector('#df-f69334f4-b3b9-4612-8adb-aeec9a690ad5 button.colab-df-convert');\n",
              "        buttonEl.style.display =\n",
              "          google.colab.kernel.accessAllowed ? 'block' : 'none';\n",
              "\n",
              "        async function convertToInteractive(key) {\n",
              "          const element = document.querySelector('#df-f69334f4-b3b9-4612-8adb-aeec9a690ad5');\n",
              "          const dataTable =\n",
              "            await google.colab.kernel.invokeFunction('convertToInteractive',\n",
              "                                                     [key], {});\n",
              "          if (!dataTable) return;\n",
              "\n",
              "          const docLinkHtml = 'Like what you see? Visit the ' +\n",
              "            '<a target=\"_blank\" href=https://colab.research.google.com/notebooks/data_table.ipynb>data table notebook</a>'\n",
              "            + ' to learn more about interactive tables.';\n",
              "          element.innerHTML = '';\n",
              "          dataTable['output_type'] = 'display_data';\n",
              "          await google.colab.output.renderOutput(dataTable, element);\n",
              "          const docLink = document.createElement('div');\n",
              "          docLink.innerHTML = docLinkHtml;\n",
              "          element.appendChild(docLink);\n",
              "        }\n",
              "      </script>\n",
              "    </div>\n",
              "  </div>\n",
              "  "
            ]
          },
          "metadata": {},
          "execution_count": 11
        }
      ]
    },
    {
      "cell_type": "code",
      "source": [
        "End_time = pd.Series(all_duty_start_end.END_TIME_SECONDS)\n",
        "Start_time = pd.Series(all_duty_start_end.START_TIME_SECONDS)"
      ],
      "metadata": {
        "id": "b3RXUsKNvaHG"
      },
      "execution_count": null,
      "outputs": []
    },
    {
      "cell_type": "code",
      "source": [
        "Diff_time = End_time - Start_time\n",
        "Diff_time"
      ],
      "metadata": {
        "colab": {
          "base_uri": "https://localhost:8080/"
        },
        "id": "doqStZao0KHQ",
        "outputId": "a8b76a6e-8e10-4fce-e985-04aca8d14e41"
      },
      "execution_count": null,
      "outputs": [
        {
          "output_type": "execute_result",
          "data": {
            "text/plain": [
              "0        45\n",
              "1       218\n",
              "2       218\n",
              "3       218\n",
              "4       218\n",
              "      ...  \n",
              "95    13620\n",
              "96    20220\n",
              "97    60300\n",
              "98    56220\n",
              "99    28050\n",
              "Length: 100, dtype: int64"
            ]
          },
          "metadata": {},
          "execution_count": 19
        }
      ]
    },
    {
      "cell_type": "code",
      "source": [
        ""
      ],
      "metadata": {
        "id": "DcMrlkFf0Q14"
      },
      "execution_count": null,
      "outputs": []
    }
  ]
}